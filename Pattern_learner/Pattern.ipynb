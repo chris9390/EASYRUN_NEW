{
 "cells": [
  {
   "cell_type": "code",
   "execution_count": 1,
   "metadata": {},
   "outputs": [],
   "source": [
    "import requests\n",
    "from bs4 import BeautifulSoup"
   ]
  },
  {
   "cell_type": "code",
   "execution_count": 2,
   "metadata": {},
   "outputs": [
    {
     "data": {
      "text/plain": [
       "1"
      ]
     },
     "execution_count": 2,
     "metadata": {},
     "output_type": "execute_result"
    }
   ],
   "source": [
    "#Global Variables\n",
    "cnt = 1\n",
    "f1 = open(\"URL.txt\", 'w')\n",
    "start_url = \"http://cspro.sogang.ac.kr/~gr120170213/index.html\"\n",
    "f1.write(start_url)\n",
    "f1.write('\\n')"
   ]
  },
  {
   "cell_type": "code",
   "execution_count": 3,
   "metadata": {},
   "outputs": [],
   "source": [
    "def Write_Content(url):\n",
    "    global cnt\n",
    "    \n",
    "    url_token = []\n",
    "    url_links = []\n",
    "    f = open(\"Output_%04d.txt\" %(cnt), 'w')\n",
    "    cnt += 1\n",
    "    r = requests.get(url)\n",
    "    soup = BeautifulSoup(r.content, \"html.parser\")\n",
    "    results = soup.find_all('p')\n",
    "    \n",
    "    for i in results:\n",
    "        f.write(i.get_text())\n",
    "        f.write('\\n')\n",
    "    \n",
    "    results = soup.find_all('a')\n",
    "    \n",
    "    for i in results:\n",
    "        url_token.append(i.get('href'))\n",
    "    \n",
    "    for i in url_token:\n",
    "        if i[0:4] != \"http\":\n",
    "            i = \"http://cspro.sogang.ac.kr/~gr120170213/\" + i\n",
    "        url_links.append(i)\n",
    "    \n",
    "    for i in url_links:\n",
    "        req = requests.get(i)\n",
    "        \n",
    "        if req.ok == False:\n",
    "            continue\n",
    "        if req.content == r.content:\n",
    "            continue\n",
    "        #예외처리 PASS 되면\n",
    "        f1.write(i)\n",
    "        f1.write('\\n')\n",
    "        Write_Content(i)\n",
    "        \n",
    "    f.close()\n",
    "    "
   ]
  },
  {
   "cell_type": "code",
   "execution_count": 4,
   "metadata": {},
   "outputs": [],
   "source": [
    "#main Function\n",
    "Write_Content(start_url)\n",
    "f1.close()"
   ]
  },
  {
   "cell_type": "code",
   "execution_count": null,
   "metadata": {},
   "outputs": [],
   "source": []
  }
 ],
 "metadata": {
  "kernelspec": {
   "display_name": "Python 3",
   "language": "python",
   "name": "python3"
  },
  "language_info": {
   "codemirror_mode": {
    "name": "ipython",
    "version": 3
   },
   "file_extension": ".py",
   "mimetype": "text/x-python",
   "name": "python",
   "nbconvert_exporter": "python",
   "pygments_lexer": "ipython3",
   "version": "3.6.4"
  }
 },
 "nbformat": 4,
 "nbformat_minor": 2
}
